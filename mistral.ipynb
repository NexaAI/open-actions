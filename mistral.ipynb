{
 "cells": [
  {
   "cell_type": "code",
   "execution_count": 2,
   "metadata": {},
   "outputs": [],
   "source": [
    "import logging\n",
    "import os\n",
    "import json\n",
    "import pandas as pd\n",
    "from tqdm import tqdm\n",
    "from dotenv import load_dotenv\n",
    "import time\n",
    "import requests\n",
    "from tenacity import retry, stop_after_attempt, wait_fixed\n",
    "from mistralai.client import MistralClient\n",
    "from mistralai.models.chat_completion import ChatMessage\n",
    "import functools\n",
    "import mistral_functions_list\n",
    "from actions.content_creator.college_board_api import get_institution\n",
    "import json"
   ]
  },
  {
   "cell_type": "code",
   "execution_count": 3,
   "metadata": {},
   "outputs": [],
   "source": [
    "load_dotenv()\n",
    "\n",
    "# Mistral API key and configuration\n",
    "MISTRAL_API_KEY = os.environ[\"MISTRAL_API_KEY\"]\n",
    "MODEL_NAME = \"mistral-large-latest\"\n",
    "monthly_token_limit = 10000000000\n",
    "\n",
    "current_monthly_usage = 0\n",
    "client = MistralClient(api_key=MISTRAL_API_KEY)"
   ]
  },
  {
   "cell_type": "code",
   "execution_count": 11,
   "metadata": {},
   "outputs": [],
   "source": [
    "tools = [\n",
    "    {\n",
    "        \"type\": \"function\",\n",
    "        \"function\": {\n",
    "            \"name\": \"get_institution\",\n",
    "            \"description\": \"Get school information from the College Scorecard.\",\n",
    "            \"parameters\": {\n",
    "                \"type\": \"object\",\n",
    "                \"properties\": {\n",
    "                    \"name\": {\n",
    "                        \"type\": \"string\",\n",
    "                        \"description\": \"The name of the school to search for.\",\n",
    "                    },\n",
    "                    \"zip\": {\n",
    "                        \"type\": \"string\",\n",
    "                        \"description\": \"Postal code of the school.\",\n",
    "                    },\n",
    "                    \"city\": {\n",
    "                        \"type\": \"string\",\n",
    "                        \"description\": \"City of the school.\",\n",
    "                    },\n",
    "                    \"state\": {\n",
    "                        \"type\": \"string\",\n",
    "                        \"description\": \"State of the school.\",\n",
    "                    },\n",
    "                },\n",
    "            },\n",
    "        },\n",
    "    },\n",
    "]"
   ]
  },
  {
   "cell_type": "code",
   "execution_count": 12,
   "metadata": {},
   "outputs": [
    {
     "data": {
      "text/plain": [
       "ChatCompletionResponse(id='cfa3a338890947d78c0716668e3021ff', object='chat.completion', created=1712561439, model='mistral-large-latest', choices=[ChatCompletionResponseChoice(index=0, message=ChatMessage(role='assistant', content='To retrieve information about a school, I would need some specific details such as the name of the school, city, state, or zip code. Could you please provide these details?', name=None, tool_calls=None), finish_reason=<FinishReason.stop: 'stop'>)], usage=UsageInfo(prompt_tokens=140, total_tokens=176, completion_tokens=36))"
      ]
     },
     "execution_count": 12,
     "metadata": {},
     "output_type": "execute_result"
    }
   ],
   "source": [
    "\n",
    "messages = [\n",
    "    ChatMessage(\n",
    "        role=\"user\",\n",
    "        content=\"Retrive all information about the school\",\n",
    "        tools=tools,\n",
    "        tool_choice=\"auto\",\n",
    "    )\n",
    "]\n",
    "\n",
    "response = client.chat(\n",
    "    model=MODEL_NAME, messages=messages, tools=tools, tool_choice=\"auto\"\n",
    ")\n",
    "response"
   ]
  },
  {
   "cell_type": "code",
   "execution_count": 13,
   "metadata": {},
   "outputs": [
    {
     "data": {
      "text/plain": [
       "ChatCompletionResponse(id='4fe2269775d24e69ab50123ced6465ee', object='chat.completion', created=1712561446, model='mistral-large-latest', choices=[ChatCompletionResponseChoice(index=0, message=ChatMessage(role='assistant', content='', name=None, tool_calls=[ToolCall(id='null', type=<ToolType.function: 'function'>, function=FunctionCall(name='get_institution', arguments='{\"name\": \"University of California-Berkeley\"}'))]), finish_reason=<FinishReason.tool_calls: 'tool_calls'>)], usage=UsageInfo(prompt_tokens=189, total_tokens=217, completion_tokens=28))"
      ]
     },
     "execution_count": 13,
     "metadata": {},
     "output_type": "execute_result"
    }
   ],
   "source": [
    "messages.append(ChatMessage(role=\"assistant\", content=response.choices[0].message.content))\n",
    "messages.append(ChatMessage(role=\"user\", content=\"The school name is University of California-Berkeley\"))\n",
    "response = client.chat(model=MODEL_NAME, messages=messages, tools=tools, tool_choice=\"auto\")\n",
    "response"
   ]
  },
  {
   "cell_type": "code",
   "execution_count": 14,
   "metadata": {},
   "outputs": [
    {
     "data": {
      "text/plain": [
       "[ChatMessage(role='user', content='Retrive all information about the school', name=None, tool_calls=None),\n",
       " ChatMessage(role='assistant', content='To retrieve information about a school, I would need some specific details such as the name of the school, city, state, or zip code. Could you please provide these details?', name=None, tool_calls=None),\n",
       " ChatMessage(role='user', content='The school name is University of California-Berkeley', name=None, tool_calls=None),\n",
       " ChatMessage(role='assistant', content='', name=None, tool_calls=[ToolCall(id='null', type=<ToolType.function: 'function'>, function=FunctionCall(name='get_institution', arguments='{\"name\": \"University of California-Berkeley\"}'))])]"
      ]
     },
     "execution_count": 14,
     "metadata": {},
     "output_type": "execute_result"
    }
   ],
   "source": [
    "messages.append(response.choices[0].message)\n",
    "messages"
   ]
  },
  {
   "cell_type": "code",
   "execution_count": 15,
   "metadata": {},
   "outputs": [
    {
     "name": "stdout",
     "output_type": "stream",
     "text": [
      "\n",
      "function_name:  get_institution \n",
      "function_params:  {'name': 'University of California-Berkeley'}\n"
     ]
    }
   ],
   "source": [
    "tool_call = response.choices[0].message.tool_calls[0]\n",
    "function_name = tool_call.function.name\n",
    "function_params = json.loads(tool_call.function.arguments)\n",
    "print(\"\\nfunction_name: \", function_name, \"\\nfunction_params: \", function_params)"
   ]
  },
  {
   "cell_type": "code",
   "execution_count": 20,
   "metadata": {},
   "outputs": [
    {
     "ename": "HTTPException",
     "evalue": "404: School not found",
     "output_type": "error",
     "traceback": [
      "\u001b[0;31m---------------------------------------------------------------------------\u001b[0m",
      "\u001b[0;31mHTTPException\u001b[0m                             Traceback (most recent call last)",
      "\u001b[1;32m/home/zoey/open-actions/mistral.ipynb Cell 8\u001b[0m line \u001b[0;36m6\n\u001b[1;32m      <a href='vscode-notebook-cell://ssh-remote%2B7b22686f73744e616d65223a224e6578614e6578615434227d/home/zoey/open-actions/mistral.ipynb#X10sdnNjb2RlLXJlbW90ZQ%3D%3D?line=0'>1</a>\u001b[0m names_to_functions \u001b[39m=\u001b[39m {\n\u001b[1;32m      <a href='vscode-notebook-cell://ssh-remote%2B7b22686f73744e616d65223a224e6578614e6578615434227d/home/zoey/open-actions/mistral.ipynb#X10sdnNjb2RlLXJlbW90ZQ%3D%3D?line=1'>2</a>\u001b[0m     \u001b[39m\"\u001b[39m\u001b[39mget_institution\u001b[39m\u001b[39m\"\u001b[39m: functools\u001b[39m.\u001b[39mpartial(\n\u001b[1;32m      <a href='vscode-notebook-cell://ssh-remote%2B7b22686f73744e616d65223a224e6578614e6578615434227d/home/zoey/open-actions/mistral.ipynb#X10sdnNjb2RlLXJlbW90ZQ%3D%3D?line=2'>3</a>\u001b[0m         get_institution\n\u001b[1;32m      <a href='vscode-notebook-cell://ssh-remote%2B7b22686f73744e616d65223a224e6578614e6578615434227d/home/zoey/open-actions/mistral.ipynb#X10sdnNjb2RlLXJlbW90ZQ%3D%3D?line=3'>4</a>\u001b[0m     )\n\u001b[1;32m      <a href='vscode-notebook-cell://ssh-remote%2B7b22686f73744e616d65223a224e6578614e6578615434227d/home/zoey/open-actions/mistral.ipynb#X10sdnNjb2RlLXJlbW90ZQ%3D%3D?line=4'>5</a>\u001b[0m }\n\u001b[0;32m----> <a href='vscode-notebook-cell://ssh-remote%2B7b22686f73744e616d65223a224e6578614e6578615434227d/home/zoey/open-actions/mistral.ipynb#X10sdnNjb2RlLXJlbW90ZQ%3D%3D?line=5'>6</a>\u001b[0m function_result \u001b[39m=\u001b[39m \u001b[39mawait\u001b[39;00m names_to_functions[\u001b[39m\"\u001b[39m\u001b[39mget_institution\u001b[39m\u001b[39m\"\u001b[39m](\u001b[39m*\u001b[39m\u001b[39m*\u001b[39mfunction_params)\n\u001b[1;32m      <a href='vscode-notebook-cell://ssh-remote%2B7b22686f73744e616d65223a224e6578614e6578615434227d/home/zoey/open-actions/mistral.ipynb#X10sdnNjb2RlLXJlbW90ZQ%3D%3D?line=7'>8</a>\u001b[0m \u001b[39mif\u001b[39;00m \u001b[39misinstance\u001b[39m(function_result, (\u001b[39mlist\u001b[39m, \u001b[39mdict\u001b[39m)):\n\u001b[1;32m      <a href='vscode-notebook-cell://ssh-remote%2B7b22686f73744e616d65223a224e6578614e6578615434227d/home/zoey/open-actions/mistral.ipynb#X10sdnNjb2RlLXJlbW90ZQ%3D%3D?line=8'>9</a>\u001b[0m     function_result \u001b[39m=\u001b[39m json\u001b[39m.\u001b[39mdumps(function_result)\n",
      "File \u001b[0;32m~/open-actions/actions/content_creator/college_board_api.py:79\u001b[0m, in \u001b[0;36mget_institution\u001b[0;34m(state, city, zip, name)\u001b[0m\n\u001b[1;32m     76\u001b[0m schools \u001b[39m=\u001b[39m fetch_school_data(data)\n\u001b[1;32m     78\u001b[0m \u001b[39mif\u001b[39;00m \u001b[39mnot\u001b[39;00m schools:\n\u001b[0;32m---> 79\u001b[0m     \u001b[39mraise\u001b[39;00m HTTPException(status_code\u001b[39m=\u001b[39m\u001b[39m404\u001b[39m, detail\u001b[39m=\u001b[39m\u001b[39m\"\u001b[39m\u001b[39mSchool not found\u001b[39m\u001b[39m\"\u001b[39m)\n\u001b[1;32m     81\u001b[0m \u001b[39mreturn\u001b[39;00m schools\n",
      "\u001b[0;31mHTTPException\u001b[0m: 404: School not found"
     ]
    }
   ],
   "source": [
    "names_to_functions = {\n",
    "    \"get_institution\": functools.partial(\n",
    "        get_institution\n",
    "    )\n",
    "}\n",
    "function_result = await names_to_functions[\"get_institution\"](**function_params)\n",
    "\n",
    "if isinstance(function_result, (list, dict)):\n",
    "    function_result = json.dumps(function_result)\n",
    "print(function_result)\n",
    "# print(f\"Total token count: {len(function_result)}\")\n"
   ]
  },
  {
   "cell_type": "code",
   "execution_count": 16,
   "metadata": {},
   "outputs": [
    {
     "ename": "NameError",
     "evalue": "name 'function_result' is not defined",
     "output_type": "error",
     "traceback": [
      "\u001b[0;31m---------------------------------------------------------------------------\u001b[0m",
      "\u001b[0;31mNameError\u001b[0m                                 Traceback (most recent call last)",
      "\u001b[1;32m/home/zoey/open-actions/mistral.ipynb Cell 9\u001b[0m line \u001b[0;36m1\n\u001b[0;32m----> <a href='vscode-notebook-cell://ssh-remote%2B7b22686f73744e616d65223a224e6578614e6578615434227d/home/zoey/open-actions/mistral.ipynb#X11sdnNjb2RlLXJlbW90ZQ%3D%3D?line=0'>1</a>\u001b[0m messages\u001b[39m.\u001b[39mappend(ChatMessage(role\u001b[39m=\u001b[39m\u001b[39m\"\u001b[39m\u001b[39mtool\u001b[39m\u001b[39m\"\u001b[39m, name\u001b[39m=\u001b[39mfunction_name, content\u001b[39m=\u001b[39mfunction_result))\n\u001b[1;32m      <a href='vscode-notebook-cell://ssh-remote%2B7b22686f73744e616d65223a224e6578614e6578615434227d/home/zoey/open-actions/mistral.ipynb#X11sdnNjb2RlLXJlbW90ZQ%3D%3D?line=2'>3</a>\u001b[0m response \u001b[39m=\u001b[39m client\u001b[39m.\u001b[39mchat(model\u001b[39m=\u001b[39mMODEL_NAME, messages\u001b[39m=\u001b[39mmessages)\n\u001b[1;32m      <a href='vscode-notebook-cell://ssh-remote%2B7b22686f73744e616d65223a224e6578614e6578615434227d/home/zoey/open-actions/mistral.ipynb#X11sdnNjb2RlLXJlbW90ZQ%3D%3D?line=3'>4</a>\u001b[0m response\u001b[39m.\u001b[39mchoices[\u001b[39m0\u001b[39m]\u001b[39m.\u001b[39mmessage\u001b[39m.\u001b[39mcontent\n",
      "\u001b[0;31mNameError\u001b[0m: name 'function_result' is not defined"
     ]
    }
   ],
   "source": [
    "messages.append(ChatMessage(role=\"tool\", name=function_name, content=function_result))\n",
    "\n",
    "response = client.chat(model=MODEL_NAME, messages=messages)\n",
    "response.choices[0].message.content"
   ]
  }
 ],
 "metadata": {
  "kernelspec": {
   "display_name": "Python 3",
   "language": "python",
   "name": "python3"
  },
  "language_info": {
   "codemirror_mode": {
    "name": "ipython",
    "version": 3
   },
   "file_extension": ".py",
   "mimetype": "text/x-python",
   "name": "python",
   "nbconvert_exporter": "python",
   "pygments_lexer": "ipython3",
   "version": "3.11.7"
  }
 },
 "nbformat": 4,
 "nbformat_minor": 2
}
